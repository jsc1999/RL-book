{
 "cells": [
  {
   "cell_type": "code",
   "execution_count": 6,
   "id": "9c0f8f4d",
   "metadata": {},
   "outputs": [],
   "source": [
    "import numpy as np\n",
    "from typing import Mapping, Sequence, Tuple\n",
    "from dataclasses import dataclass"
   ]
  },
  {
   "cell_type": "code",
   "execution_count": 65,
   "id": "0d3f7282",
   "metadata": {},
   "outputs": [],
   "source": [
    "@dataclass\n",
    "class OptimalJobs():\n",
    "    value_function: Mapping[Tuple[int, str], float]\n",
    "    probabilities: Sequence[float]\n",
    "    wages: Sequence[float]\n",
    "    gamma: float\n",
    "    alpha: float\n",
    "    def transition_probability(self, in_state: Tuple[int, str], out_state: Tuple[int, str], action: str) -> float:\n",
    "        in_job = in_state[0]\n",
    "        in_employ = in_state[1]\n",
    "        out_job = out_state[0]\n",
    "        out_employ = out_state[1]\n",
    "        if (action == 'R') & (in_employ == 'N') & (out_employ == 'N'):\n",
    "            return self.probabilities[out_job - 1]\n",
    "        if (action == 'A') & (out_employ == 'N'):\n",
    "            return self.alpha * self.probabilities[out_job - 1]\n",
    "        if (in_job == out_job) & (out_employ == 'E'):\n",
    "            return 1 - self.alpha\n",
    "        else:\n",
    "            return 0\n",
    "    def expected_reward(self, in_state: Tuple[int, str], action: 'str') -> float:\n",
    "        if action == 'A':\n",
    "            return self.wages[in_state[0]]\n",
    "        elif action == 'R':\n",
    "            return self.wages[0]\n",
    "    \n",
    "    def vf_if_employ(self, in_state: Tuple[int, str]) -> float:\n",
    "        value = np.log(self.wages[in_state[0]]) + self.gamma * (1 - self.alpha) \\\n",
    "                * self.value_function[tuple([in_state[0], 'E'])]\n",
    "        other_vals = np.array([self.value_function[tuple([i, 'N'])] for i in range(1, len(self.probabilities) + 1)])\n",
    "        value += np.sum(other_vals * self.probabilities) * self.gamma * self.alpha\n",
    "        return value\n",
    "    \n",
    "    def vf_if_notemploy(self, in_state: Tuple[int, str]) -> float:\n",
    "        value = np.log(self.wages[0]) + self.gamma \\\n",
    "                * np.sum(np.array([self.value_function[tuple([i, 'N'])] for i in range(1, len(self.probabilities) + 1)])\n",
    "                * self.probabilities)\n",
    "        value = max(value, self.vf_if_employ(in_state))\n",
    "        return value\n",
    "    \n",
    "    def bellman_operator(self):\n",
    "        vf_copy = self.value_function.copy()\n",
    "        for in_state in vf_copy.keys():\n",
    "            if in_state[1] == 'E':\n",
    "                val = self.vf_if_employ(in_state)\n",
    "            elif in_state[1] == 'N':\n",
    "                val = self.vf_if_notemploy(in_state)\n",
    "            vf_copy[in_state] = val\n",
    "        self.value_function = vf_copy\n",
    "        \n",
    "    def get_actions(self) -> Mapping[Tuple[int, str], str]:\n",
    "        vf_copy = self.value_function.copy()\n",
    "        for in_state in vf_copy.keys():\n",
    "            if in_state[1] == 'E':\n",
    "                vf_copy[in_state] = 'A'\n",
    "            if in_state[1] == 'N':\n",
    "                if self.vf_if_employ(in_state) >= self.vf_if_notemploy(in_state):\n",
    "                    vf_copy[in_state] = 'A'\n",
    "                else:\n",
    "                    vf_copy[in_state] = 'R'\n",
    "        return vf_copy\n",
    "    \n",
    "    def compute_value_function(self, tolerance: float = 1e-4) -> Mapping[Tuple[int, str], float]:\n",
    "        keys = self.value_function.keys()\n",
    "        diff = float('inf')\n",
    "        while diff > tolerance:\n",
    "            old_vals = np.array([self.value_function[key] for key in keys])\n",
    "            self.bellman_operator()\n",
    "            new_vals = np.array([self.value_function[key] for key in keys])\n",
    "            diff = np.max(np.abs(new_vals - old_vals))\n",
    "        return self.value_function\n",
    "        "
   ]
  },
  {
   "cell_type": "code",
   "execution_count": 66,
   "id": "338fd8e3",
   "metadata": {},
   "outputs": [],
   "source": [
    "n = 10\n",
    "rands = np.random.rand(10)\n",
    "probs = rands / rands.sum()\n",
    "wages = np.random.rand(11) * 100\n",
    "dict_keys = [tuple([i, c]) for c in ['E', 'N'] for i in range(1, n + 1)]\n",
    "value_function = dict(zip(dict_keys, np.zeros(n * 2)))\n",
    "gamma = 0.5\n",
    "alpha = 0.2"
   ]
  },
  {
   "cell_type": "code",
   "execution_count": 67,
   "id": "6e2f8831",
   "metadata": {},
   "outputs": [],
   "source": [
    "optim = OptimalJobs(value_function=value_function, probabilities=probs, wages=wages, gamma=gamma, alpha=alpha)"
   ]
  },
  {
   "cell_type": "code",
   "execution_count": 68,
   "id": "05e1d7d1",
   "metadata": {},
   "outputs": [
    {
     "data": {
      "text/plain": [
       "{(1, 'E'): 8.965454174298525,\n",
       " (2, 'E'): 8.728637113705796,\n",
       " (3, 'E'): 8.858567476725499,\n",
       " (4, 'E'): 6.771465687378746,\n",
       " (5, 'E'): 8.731514108195988,\n",
       " (6, 'E'): 7.187558652229709,\n",
       " (7, 'E'): 7.944154937384902,\n",
       " (8, 'E'): 7.486429367781601,\n",
       " (9, 'E'): 7.158429294244973,\n",
       " (10, 'E'): 6.974224725439922,\n",
       " (1, 'N'): 8.965454174298525,\n",
       " (2, 'N'): 8.728637113705796,\n",
       " (3, 'N'): 8.858567476725499,\n",
       " (4, 'N'): 8.401314289192019,\n",
       " (5, 'N'): 8.731514108195988,\n",
       " (6, 'N'): 8.401314289192019,\n",
       " (7, 'N'): 8.401314289192019,\n",
       " (8, 'N'): 8.401314289192019,\n",
       " (9, 'N'): 8.401314289192019,\n",
       " (10, 'N'): 8.401314289192019}"
      ]
     },
     "execution_count": 68,
     "metadata": {},
     "output_type": "execute_result"
    }
   ],
   "source": [
    "optim.compute_value_function()"
   ]
  },
  {
   "cell_type": "code",
   "execution_count": 69,
   "id": "c094e7d8",
   "metadata": {},
   "outputs": [
    {
     "data": {
      "text/plain": [
       "{(1, 'E'): 'A',\n",
       " (2, 'E'): 'A',\n",
       " (3, 'E'): 'A',\n",
       " (4, 'E'): 'A',\n",
       " (5, 'E'): 'A',\n",
       " (6, 'E'): 'A',\n",
       " (7, 'E'): 'A',\n",
       " (8, 'E'): 'A',\n",
       " (9, 'E'): 'A',\n",
       " (10, 'E'): 'A',\n",
       " (1, 'N'): 'A',\n",
       " (2, 'N'): 'A',\n",
       " (3, 'N'): 'A',\n",
       " (4, 'N'): 'R',\n",
       " (5, 'N'): 'A',\n",
       " (6, 'N'): 'R',\n",
       " (7, 'N'): 'R',\n",
       " (8, 'N'): 'R',\n",
       " (9, 'N'): 'R',\n",
       " (10, 'N'): 'R'}"
      ]
     },
     "execution_count": 69,
     "metadata": {},
     "output_type": "execute_result"
    }
   ],
   "source": [
    "optim.get_actions()"
   ]
  }
 ],
 "metadata": {
  "kernelspec": {
   "display_name": "Python 3 (ipykernel)",
   "language": "python",
   "name": "python3"
  },
  "language_info": {
   "codemirror_mode": {
    "name": "ipython",
    "version": 3
   },
   "file_extension": ".py",
   "mimetype": "text/x-python",
   "name": "python",
   "nbconvert_exporter": "python",
   "pygments_lexer": "ipython3",
   "version": "3.9.12"
  }
 },
 "nbformat": 4,
 "nbformat_minor": 5
}
