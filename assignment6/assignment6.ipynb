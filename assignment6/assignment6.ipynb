{
 "cells": [
  {
   "cell_type": "markdown",
   "id": "24ddf05d",
   "metadata": {},
   "source": [
    "### 3)"
   ]
  },
  {
   "cell_type": "code",
   "execution_count": 1,
   "id": "90c1446b",
   "metadata": {},
   "outputs": [],
   "source": [
    "from dataclasses import dataclass\n",
    "import numpy as np\n",
    "import os\n",
    "import pprint\n",
    "import sys\n",
    "sys.path.append(os.path.abspath(\"/Users/justincramer/Documents/Coding/CME241/RL-book/\"))\n",
    "\n",
    "from typing import Iterable, Iterator, TypeVar, Callable, Mapping\n",
    "from rl.distribution import Categorical, Choose\n",
    "from rl.iterate import converge, converged, last\n",
    "from rl.markov_decision_process import MarkovDecisionProcess, Policy, \\\n",
    "    TransitionStep, NonTerminal\n",
    "import rl.markov_process as mp\n",
    "from rl.returns import returns\n",
    "import itertools\n",
    "\n",
    "S = TypeVar('S')"
   ]
  },
  {
   "cell_type": "markdown",
   "id": "a6c96c4a",
   "metadata": {},
   "source": [
    "#### a)"
   ]
  },
  {
   "cell_type": "code",
   "execution_count": 2,
   "id": "70355004",
   "metadata": {},
   "outputs": [],
   "source": [
    "def tabular_mc_prediction(\n",
    "    traces: Iterable[Iterable[mp.TransitionStep[S]]],\n",
    "    γ: float,\n",
    "    episode_length_tolerance: float = 1e-6\n",
    ") -> Iterator[Mapping[S, float]]:\n",
    "    \n",
    "    counts: Mapping[S, int] = dict() # State VF update frequency\n",
    "    vf: Mapping[S, float] = dict() # State VF approximation\n",
    "    \n",
    "    episodes: Iterator[Iterator[mp.ReturnStep[S]]] = \\\n",
    "        (returns(trace, γ, episode_length_tolerance) for trace in traces)\n",
    "    \n",
    "    yield vf\n",
    "    for episode in episodes:\n",
    "        for step in episode:\n",
    "            counts[step.state] = counts.get(step.state, 0) + 1\n",
    "            alpha = 1 / counts[step.state]\n",
    "            vf[step.state] = (1 - alpha) * vf.get(step.state, 0) + alpha * step.return_\n",
    "            yield vf"
   ]
  },
  {
   "cell_type": "markdown",
   "id": "b89fb275",
   "metadata": {},
   "source": [
    "#### b)"
   ]
  },
  {
   "cell_type": "code",
   "execution_count": 3,
   "id": "930cc9f5",
   "metadata": {},
   "outputs": [],
   "source": [
    "def tabular_td_prediction(\n",
    "    traces: Iterable[Iterable[mp.TransitionStep[S]]],\n",
    "    γ: float,\n",
    "    α: float\n",
    ") -> Iterator[Mapping[S, float]]:\n",
    "    \n",
    "    vf: Mapping[S, float] = dict() # State VF approximation\n",
    "        \n",
    "    yield vf\n",
    "    for trace in traces:\n",
    "        for step in trace:\n",
    "            vf[step.state] = (1 - α) * vf.get(step.state, 0) \\\n",
    "                             + α * (step.reward + γ * vf.get(step.next_state, 0))\n",
    "            yield vf"
   ]
  },
  {
   "cell_type": "markdown",
   "id": "ad2c46fc",
   "metadata": {},
   "source": [
    "#### c)"
   ]
  },
  {
   "cell_type": "code",
   "execution_count": 4,
   "id": "06f565ec",
   "metadata": {},
   "outputs": [],
   "source": [
    "from rl.chapter2.simple_inventory_mrp import SimpleInventoryMRPFinite"
   ]
  },
  {
   "cell_type": "code",
   "execution_count": 5,
   "id": "fd4439bf",
   "metadata": {},
   "outputs": [
    {
     "name": "stdout",
     "output_type": "stream",
     "text": [
      "{NonTerminal(state=InventoryState(on_hand=1, on_order=0)): -28.932,\n",
      " NonTerminal(state=InventoryState(on_hand=1, on_order=1)): -29.345,\n",
      " NonTerminal(state=InventoryState(on_hand=2, on_order=0)): -30.345,\n",
      " NonTerminal(state=InventoryState(on_hand=0, on_order=1)): -27.932,\n",
      " NonTerminal(state=InventoryState(on_hand=0, on_order=0)): -35.511,\n",
      " NonTerminal(state=InventoryState(on_hand=0, on_order=2)): -28.345}\n"
     ]
    }
   ],
   "source": [
    "# Value function from SimpleInventoryMRPFinite\n",
    "user_capacity = 2\n",
    "user_poisson_lambda = 1.0\n",
    "user_holding_cost = 1.0\n",
    "user_stockout_cost = 10.0\n",
    "\n",
    "user_gamma = 0.9\n",
    "\n",
    "si_mrp = SimpleInventoryMRPFinite(\n",
    "    capacity=user_capacity,\n",
    "    poisson_lambda=user_poisson_lambda,\n",
    "    holding_cost=user_holding_cost,\n",
    "    stockout_cost=user_stockout_cost\n",
    ")\n",
    "\n",
    "si_mrp.display_value_function(gamma=user_gamma)\n"
   ]
  },
  {
   "cell_type": "code",
   "execution_count": 6,
   "id": "c5c9005c",
   "metadata": {
    "scrolled": true
   },
   "outputs": [
    {
     "name": "stdout",
     "output_type": "stream",
     "text": [
      "{NonTerminal(state=InventoryState(on_hand=0, on_order=2)): -28.43199798242442,\n",
      " NonTerminal(state=InventoryState(on_hand=1, on_order=1)): -29.322410461400935,\n",
      " NonTerminal(state=InventoryState(on_hand=1, on_order=0)): -28.878713387063662,\n",
      " NonTerminal(state=InventoryState(on_hand=0, on_order=1)): -27.69415256092603,\n",
      " NonTerminal(state=InventoryState(on_hand=2, on_order=0)): -30.089227769958033,\n",
      " NonTerminal(state=InventoryState(on_hand=0, on_order=0)): -35.584176643914475}\n",
      "\n",
      "\n",
      "{NonTerminal(state=InventoryState(on_hand=1, on_order=1)): -28.421054204591513,\n",
      " NonTerminal(state=InventoryState(on_hand=1, on_order=0)): -27.84323742506352,\n",
      " NonTerminal(state=InventoryState(on_hand=0, on_order=1)): -26.942646761659827,\n",
      " NonTerminal(state=InventoryState(on_hand=2, on_order=0)): -29.807018164280485,\n",
      " NonTerminal(state=InventoryState(on_hand=0, on_order=0)): -34.86890595644093,\n",
      " NonTerminal(state=InventoryState(on_hand=0, on_order=2)): -27.68952037567707}\n"
     ]
    }
   ],
   "source": [
    "init_distribution: Choose[S] = Choose(si_mrp.non_terminal_states)\n",
    "traces: Iterable[Iterable[mp.TransitionStep[S]]] = si_mrp.reward_traces(init_distribution)\n",
    "predictions_mc = tabular_mc_prediction(traces, γ=user_gamma)\n",
    "predictions_td = tabular_td_prediction(traces, γ=user_gamma, α=0.05)\n",
    "\n",
    "pprint.pprint(last(itertools.islice(predictions_mc, 10000)))\n",
    "print('\\n')\n",
    "pprint.pprint(last(itertools.islice(predictions_td, 10000)))"
   ]
  }
 ],
 "metadata": {
  "kernelspec": {
   "display_name": "Python 3 (ipykernel)",
   "language": "python",
   "name": "python3"
  },
  "language_info": {
   "codemirror_mode": {
    "name": "ipython",
    "version": 3
   },
   "file_extension": ".py",
   "mimetype": "text/x-python",
   "name": "python",
   "nbconvert_exporter": "python",
   "pygments_lexer": "ipython3",
   "version": "3.9.12"
  }
 },
 "nbformat": 4,
 "nbformat_minor": 5
}
