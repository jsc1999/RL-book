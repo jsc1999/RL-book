{
 "cells": [
  {
   "cell_type": "markdown",
   "id": "d198079d",
   "metadata": {},
   "source": [
    "### 3)"
   ]
  },
  {
   "cell_type": "code",
   "execution_count": 378,
   "id": "1c5f6fbe",
   "metadata": {},
   "outputs": [],
   "source": [
    "from dataclasses import dataclass\n",
    "import numpy as np\n",
    "import os\n",
    "import pprint\n",
    "import sys\n",
    "sys.path.append(os.path.abspath(\"/Users/justincramer/Documents/Coding/CME241/RL-book/\"))\n",
    "\n",
    "from typing import Iterable, Iterator, TypeVar, Callable, Mapping, Iterable\n",
    "from rl.distribution import Categorical, Choose\n",
    "from rl.approximate_dynamic_programming import (ValueFunctionApprox,\n",
    "                                                QValueFunctionApprox,\n",
    "                                                NTStateDistribution)\n",
    "from rl.iterate import converge, converged, last\n",
    "from rl.markov_decision_process import MarkovDecisionProcess, Policy, \\\n",
    "    TransitionStep, NonTerminal\n",
    "import rl.markov_process as mp\n",
    "from rl.returns import returns\n",
    "import itertools\n",
    "\n",
    "S = TypeVar('S')"
   ]
  },
  {
   "cell_type": "markdown",
   "id": "16990ec1",
   "metadata": {},
   "source": [
    "#### a)"
   ]
  },
  {
   "cell_type": "code",
   "execution_count": 379,
   "id": "03a5a5c5",
   "metadata": {},
   "outputs": [],
   "source": [
    "def tabular_mc_prediction(\n",
    "    traces: Iterable[Iterable[mp.TransitionStep[S]]],\n",
    "    γ: float,\n",
    "    episode_length_tolerance: float = 1e-6\n",
    ") -> Iterator[Mapping[S, float]]:\n",
    "    \n",
    "    counts: Mapping[S, int] = dict() # State VF update frequency\n",
    "    vf: Mapping[S, float] = dict() # State VF approximation\n",
    "    \n",
    "    episodes: Iterator[Iterator[mp.ReturnStep[S]]] = \\\n",
    "        (returns(trace, γ, episode_length_tolerance) for trace in traces)\n",
    "    \n",
    "    yield vf\n",
    "    for episode in episodes:\n",
    "        for step in episode:\n",
    "            counts[step.state] = counts.get(step.state, 0) + 1\n",
    "            alpha = 1 / counts[step.state]\n",
    "            vf[step.state] = (1 - alpha) * vf.get(step.state, 0) + alpha * step.return_\n",
    "            yield vf"
   ]
  },
  {
   "cell_type": "markdown",
   "id": "9e7d38d7",
   "metadata": {},
   "source": [
    "#### b)"
   ]
  },
  {
   "cell_type": "code",
   "execution_count": 189,
   "id": "73c4366e",
   "metadata": {},
   "outputs": [],
   "source": [
    "def tabular_td_prediction(\n",
    "    traces: Iterable[Iterable[mp.TransitionStep[S]]],\n",
    "    γ: float\n",
    ") -> Iterator[Mapping[S, float]]:\n",
    "    \n",
    "    counts: Mapping[S, int] = dict() # State VF update frequency\n",
    "    vf: Mapping[S, float] = dict() # State VF approximation\n",
    "        \n",
    "    yield vf\n",
    "    for trace in traces:\n",
    "        for step in trace:\n",
    "            counts[step.state] = counts.get(step.state, 0) + 1\n",
    "            alpha = 1 / counts[step.state]\n",
    "            vf[step.state] = (1 - alpha) * vf.get(step.state, 0) \\\n",
    "                             + alpha * (step.reward + γ * vf.get(step.next_state, 0))\n",
    "            yield vf"
   ]
  },
  {
   "cell_type": "markdown",
   "id": "f574d9d8",
   "metadata": {},
   "source": [
    "#### c)"
   ]
  },
  {
   "cell_type": "code",
   "execution_count": 23,
   "id": "cccfe5eb",
   "metadata": {},
   "outputs": [],
   "source": [
    "from rl.chapter2.simple_inventory_mrp import SimpleInventoryMRPFinite"
   ]
  },
  {
   "cell_type": "code",
   "execution_count": 27,
   "id": "03526e54",
   "metadata": {},
   "outputs": [
    {
     "name": "stdout",
     "output_type": "stream",
     "text": [
      "{NonTerminal(state=InventoryState(on_hand=0, on_order=0)): -35.511,\n",
      " NonTerminal(state=InventoryState(on_hand=0, on_order=1)): -27.932,\n",
      " NonTerminal(state=InventoryState(on_hand=0, on_order=2)): -28.345,\n",
      " NonTerminal(state=InventoryState(on_hand=1, on_order=0)): -28.932,\n",
      " NonTerminal(state=InventoryState(on_hand=2, on_order=0)): -30.345,\n",
      " NonTerminal(state=InventoryState(on_hand=1, on_order=1)): -29.345}\n"
     ]
    }
   ],
   "source": [
    "# Value function from SimpleInventoryMRPFinite\n",
    "user_capacity = 2\n",
    "user_poisson_lambda = 1.0\n",
    "user_holding_cost = 1.0\n",
    "user_stockout_cost = 10.0\n",
    "\n",
    "user_gamma = 0.9\n",
    "\n",
    "si_mrp = SimpleInventoryMRPFinite(\n",
    "    capacity=user_capacity,\n",
    "    poisson_lambda=user_poisson_lambda,\n",
    "    holding_cost=user_holding_cost,\n",
    "    stockout_cost=user_stockout_cost\n",
    ")\n",
    "\n",
    "si_mrp.display_value_function(gamma=user_gamma)\n"
   ]
  },
  {
   "cell_type": "code",
   "execution_count": 303,
   "id": "3b48dd35",
   "metadata": {},
   "outputs": [],
   "source": [
    "# Function to define convergence of VF dicts\n",
    "def done(d1: Mapping[S, float], d2: Mapping[S, float], tol=1e-6):\n",
    "    keys = d1.keys()\n",
    "    for key in keys:\n",
    "        if (abs(d1[key] - d2[key]) > tol): return False\n",
    "    return True"
   ]
  },
  {
   "cell_type": "code",
   "execution_count": 381,
   "id": "2e97207a",
   "metadata": {},
   "outputs": [
    {
     "name": "stdout",
     "output_type": "stream",
     "text": [
      "{NonTerminal(state=InventoryState(on_hand=0, on_order=1)): -24.019125179698424} \n",
      "\n",
      "{NonTerminal(state=InventoryState(on_hand=0, on_order=1)): -27.754361675907454,\n",
      " NonTerminal(state=InventoryState(on_hand=1, on_order=1)): -29.167499531405678,\n",
      " NonTerminal(state=InventoryState(on_hand=0, on_order=2)): -27.963602651795853,\n",
      " NonTerminal(state=InventoryState(on_hand=2, on_order=0)): -30.079887737385864,\n",
      " NonTerminal(state=InventoryState(on_hand=1, on_order=0)): -28.680867266975728,\n",
      " NonTerminal(state=InventoryState(on_hand=0, on_order=0)): -35.1603606475684}\n",
      "\n",
      "\n",
      "{NonTerminal(state=InventoryState(on_hand=1, on_order=0)): -16.667807473317065,\n",
      " NonTerminal(state=InventoryState(on_hand=0, on_order=2)): -15.902976672608476,\n",
      " NonTerminal(state=InventoryState(on_hand=1, on_order=1)): -17.09986436532476,\n",
      " NonTerminal(state=InventoryState(on_hand=0, on_order=1)): -15.56750237890788,\n",
      " NonTerminal(state=InventoryState(on_hand=2, on_order=0)): -17.89682783620878,\n",
      " NonTerminal(state=InventoryState(on_hand=0, on_order=0)): -23.11024640622656}\n"
     ]
    }
   ],
   "source": [
    "init_distribution: Choose[S] = Choose(si_mrp.non_terminal_states)\n",
    "traces: Iterable[Iterable[mp.TransitionStep[S]]] = si_mrp.reward_traces(init_distribution)\n",
    "predictions_mc = tabular_mc_prediction(traces, γ=user_gamma)\n",
    "predictions_td = tabular_td_prediction(traces, γ=user_gamma)\n",
    "\n",
    "# can't get this to work; it doesn't return a dictionary\n",
    "print(converged(predictions_mc, done), '\\n')\n",
    "# this works and converges correctly\n",
    "pprint.pprint(last(itertools.islice(predictions_mc, 10000)))\n",
    "print('\\n')\n",
    "# this doesn't converge correctly\n",
    "pprint.pprint(last(itertools.islice(predictions_td, 10000)))"
   ]
  }
 ],
 "metadata": {
  "kernelspec": {
   "display_name": "Python 3 (ipykernel)",
   "language": "python",
   "name": "python3"
  },
  "language_info": {
   "codemirror_mode": {
    "name": "ipython",
    "version": 3
   },
   "file_extension": ".py",
   "mimetype": "text/x-python",
   "name": "python",
   "nbconvert_exporter": "python",
   "pygments_lexer": "ipython3",
   "version": "3.9.12"
  }
 },
 "nbformat": 4,
 "nbformat_minor": 5
}
